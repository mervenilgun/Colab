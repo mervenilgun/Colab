{
  "nbformat": 4,
  "nbformat_minor": 0,
  "metadata": {
    "colab": {
      "provenance": []
    },
    "kernelspec": {
      "name": "python3",
      "display_name": "Python 3"
    },
    "language_info": {
      "name": "python"
    }
  },
  "cells": [
    {
      "cell_type": "markdown",
      "source": [
        "## 📚 `tips` Veri Seti – Pandas Uygulamalı Ödev"
      ],
      "metadata": {
        "id": "jafELW2_azGS"
      }
    },
    {
      "cell_type": "markdown",
      "source": [
        "### ✅ Adım 0: Veri Setini Yükle"
      ],
      "metadata": {
        "id": "QU7NvCZRa_ee"
      }
    },
    {
      "cell_type": "code",
      "source": [
        "import seaborn as sns\n",
        "import pandas as pd\n",
        "\n",
        "df = sns.load_dataset(\"tips\")"
      ],
      "metadata": {
        "id": "guE47wP0a2q9"
      },
      "execution_count": 38,
      "outputs": []
    },
    {
      "cell_type": "markdown",
      "source": [
        "### 📌 1. Temel Gözlemler"
      ],
      "metadata": {
        "id": "e6egew2obaXC"
      }
    },
    {
      "cell_type": "code",
      "source": [
        "# 1. Veri setinin ilk 10 satırı\n",
        "print(df.head(10))"
      ],
      "metadata": {
        "colab": {
          "base_uri": "https://localhost:8080/"
        },
        "id": "giI-YBJobo4V",
        "outputId": "1aa019f9-b504-443b-bfa9-96386ea7cbfd"
      },
      "execution_count": 39,
      "outputs": [
        {
          "output_type": "stream",
          "name": "stdout",
          "text": [
            "   total_bill   tip     sex smoker  day    time  size\n",
            "0       16.99  1.01  Female     No  Sun  Dinner     2\n",
            "1       10.34  1.66    Male     No  Sun  Dinner     3\n",
            "2       21.01  3.50    Male     No  Sun  Dinner     3\n",
            "3       23.68  3.31    Male     No  Sun  Dinner     2\n",
            "4       24.59  3.61  Female     No  Sun  Dinner     4\n",
            "5       25.29  4.71    Male     No  Sun  Dinner     4\n",
            "6        8.77  2.00    Male     No  Sun  Dinner     2\n",
            "7       26.88  3.12    Male     No  Sun  Dinner     4\n",
            "8       15.04  1.96    Male     No  Sun  Dinner     2\n",
            "9       14.78  3.23    Male     No  Sun  Dinner     2\n"
          ]
        }
      ]
    },
    {
      "cell_type": "code",
      "source": [
        "# 2. Satır ve sütun sayısı\n",
        "print(\"Satır sayısı:\", df.shape[0])\n",
        "print(\"Sütun sayısı:\", df.shape[1])"
      ],
      "metadata": {
        "colab": {
          "base_uri": "https://localhost:8080/"
        },
        "id": "tqjj3lqlb1rn",
        "outputId": "92015c25-36a4-44f4-b63d-08451888edc8"
      },
      "execution_count": 40,
      "outputs": [
        {
          "output_type": "stream",
          "name": "stdout",
          "text": [
            "Satır sayısı: 244\n",
            "Sütun sayısı: 7\n"
          ]
        }
      ]
    },
    {
      "cell_type": "code",
      "source": [
        "# 3. Sütun adları ve veri tipleri\n",
        "print(df.dtypes)"
      ],
      "metadata": {
        "colab": {
          "base_uri": "https://localhost:8080/"
        },
        "id": "1YF-GiSWb6wG",
        "outputId": "e3061f8d-4ede-42f5-96e3-19c765441955"
      },
      "execution_count": 41,
      "outputs": [
        {
          "output_type": "stream",
          "name": "stdout",
          "text": [
            "total_bill     float64\n",
            "tip            float64\n",
            "sex           category\n",
            "smoker        category\n",
            "day           category\n",
            "time          category\n",
            "size             int64\n",
            "dtype: object\n"
          ]
        }
      ]
    },
    {
      "cell_type": "code",
      "source": [
        "# 4. Eksik veri kontrolü\n",
        "print(df.isnull().sum())"
      ],
      "metadata": {
        "colab": {
          "base_uri": "https://localhost:8080/"
        },
        "id": "0yAPcgf_b-hC",
        "outputId": "cfa2bbb5-f001-4671-80fa-e19a1aa8694f"
      },
      "execution_count": 42,
      "outputs": [
        {
          "output_type": "stream",
          "name": "stdout",
          "text": [
            "total_bill    0\n",
            "tip           0\n",
            "sex           0\n",
            "smoker        0\n",
            "day           0\n",
            "time          0\n",
            "size          0\n",
            "dtype: int64\n"
          ]
        }
      ]
    },
    {
      "cell_type": "markdown",
      "source": [
        "### 📌 2. Seçim ve Filtreleme"
      ],
      "metadata": {
        "id": "ahtd3amFcLqy"
      }
    },
    {
      "cell_type": "code",
      "source": [
        "# 5. total_bill > 20\n",
        "high_total_bill = df[df['total_bill'] > 20]\n",
        "print(high_total_bill)"
      ],
      "metadata": {
        "colab": {
          "base_uri": "https://localhost:8080/"
        },
        "id": "8AftR_ikcCKI",
        "outputId": "32fdbef4-9797-4ab2-d02b-a729e936df90"
      },
      "execution_count": 43,
      "outputs": [
        {
          "output_type": "stream",
          "name": "stdout",
          "text": [
            "     total_bill   tip     sex smoker  day    time  size\n",
            "2         21.01  3.50    Male     No  Sun  Dinner     3\n",
            "3         23.68  3.31    Male     No  Sun  Dinner     2\n",
            "4         24.59  3.61  Female     No  Sun  Dinner     4\n",
            "5         25.29  4.71    Male     No  Sun  Dinner     4\n",
            "7         26.88  3.12    Male     No  Sun  Dinner     4\n",
            "..          ...   ...     ...    ...  ...     ...   ...\n",
            "237       32.83  1.17    Male    Yes  Sat  Dinner     2\n",
            "238       35.83  4.67  Female     No  Sat  Dinner     3\n",
            "239       29.03  5.92    Male     No  Sat  Dinner     3\n",
            "240       27.18  2.00  Female    Yes  Sat  Dinner     2\n",
            "241       22.67  2.00    Male    Yes  Sat  Dinner     2\n",
            "\n",
            "[97 rows x 7 columns]\n"
          ]
        }
      ]
    },
    {
      "cell_type": "code",
      "source": [
        "# 6. Hem smoker hem de cinsiyeti Male olanlar\n",
        "male_smokers = df[(df['smoker'] == 'Yes') & (df['sex'] == 'Male')]\n",
        "print(male_smokers)"
      ],
      "metadata": {
        "colab": {
          "base_uri": "https://localhost:8080/"
        },
        "id": "u6x79LpocVkE",
        "outputId": "0eeb5cf4-86ee-4308-e65a-6f736a1ef784"
      },
      "execution_count": 44,
      "outputs": [
        {
          "output_type": "stream",
          "name": "stdout",
          "text": [
            "     total_bill    tip   sex smoker   day    time  size\n",
            "56        38.01   3.00  Male    Yes   Sat  Dinner     4\n",
            "58        11.24   1.76  Male    Yes   Sat  Dinner     2\n",
            "60        20.29   3.21  Male    Yes   Sat  Dinner     2\n",
            "61        13.81   2.00  Male    Yes   Sat  Dinner     2\n",
            "62        11.02   1.98  Male    Yes   Sat  Dinner     2\n",
            "63        18.29   3.76  Male    Yes   Sat  Dinner     4\n",
            "69        15.01   2.09  Male    Yes   Sat  Dinner     2\n",
            "76        17.92   3.08  Male    Yes   Sat  Dinner     2\n",
            "80        19.44   3.00  Male    Yes  Thur   Lunch     2\n",
            "83        32.68   5.00  Male    Yes  Thur   Lunch     2\n",
            "90        28.97   3.00  Male    Yes   Fri  Dinner     2\n",
            "95        40.17   4.73  Male    Yes   Fri  Dinner     4\n",
            "96        27.28   4.00  Male    Yes   Fri  Dinner     2\n",
            "97        12.03   1.50  Male    Yes   Fri  Dinner     2\n",
            "98        21.01   3.00  Male    Yes   Fri  Dinner     2\n",
            "105       15.36   1.64  Male    Yes   Sat  Dinner     2\n",
            "106       20.49   4.06  Male    Yes   Sat  Dinner     2\n",
            "107       25.21   4.29  Male    Yes   Sat  Dinner     2\n",
            "138       16.00   2.00  Male    Yes  Thur   Lunch     2\n",
            "170       50.81  10.00  Male    Yes   Sat  Dinner     3\n",
            "171       15.81   3.16  Male    Yes   Sat  Dinner     2\n",
            "172        7.25   5.15  Male    Yes   Sun  Dinner     2\n",
            "173       31.85   3.18  Male    Yes   Sun  Dinner     2\n",
            "174       16.82   4.00  Male    Yes   Sun  Dinner     2\n",
            "175       32.90   3.11  Male    Yes   Sun  Dinner     2\n",
            "176       17.89   2.00  Male    Yes   Sun  Dinner     2\n",
            "177       14.48   2.00  Male    Yes   Sun  Dinner     2\n",
            "179       34.63   3.55  Male    Yes   Sun  Dinner     2\n",
            "180       34.65   3.68  Male    Yes   Sun  Dinner     4\n",
            "181       23.33   5.65  Male    Yes   Sun  Dinner     2\n",
            "182       45.35   3.50  Male    Yes   Sun  Dinner     3\n",
            "183       23.17   6.50  Male    Yes   Sun  Dinner     4\n",
            "184       40.55   3.00  Male    Yes   Sun  Dinner     2\n",
            "187       30.46   2.00  Male    Yes   Sun  Dinner     5\n",
            "189       23.10   4.00  Male    Yes   Sun  Dinner     3\n",
            "190       15.69   1.50  Male    Yes   Sun  Dinner     2\n",
            "192       28.44   2.56  Male    Yes  Thur   Lunch     2\n",
            "193       15.48   2.02  Male    Yes  Thur   Lunch     2\n",
            "194       16.58   4.00  Male    Yes  Thur   Lunch     2\n",
            "196       10.34   2.00  Male    Yes  Thur   Lunch     2\n",
            "199       13.51   2.00  Male    Yes  Thur   Lunch     2\n",
            "200       18.71   4.00  Male    Yes  Thur   Lunch     3\n",
            "204       20.53   4.00  Male    Yes  Thur   Lunch     4\n",
            "206       26.59   3.41  Male    Yes   Sat  Dinner     3\n",
            "207       38.73   3.00  Male    Yes   Sat  Dinner     4\n",
            "208       24.27   2.03  Male    Yes   Sat  Dinner     2\n",
            "210       30.06   2.00  Male    Yes   Sat  Dinner     3\n",
            "211       25.89   5.16  Male    Yes   Sat  Dinner     4\n",
            "216       28.15   3.00  Male    Yes   Sat  Dinner     5\n",
            "217       11.59   1.50  Male    Yes   Sat  Dinner     2\n",
            "218        7.74   1.44  Male    Yes   Sat  Dinner     2\n",
            "220       12.16   2.20  Male    Yes   Fri   Lunch     2\n",
            "222        8.58   1.92  Male    Yes   Fri   Lunch     1\n",
            "224       13.42   1.58  Male    Yes   Fri   Lunch     2\n",
            "230       24.01   2.00  Male    Yes   Sat  Dinner     4\n",
            "231       15.69   3.00  Male    Yes   Sat  Dinner     3\n",
            "234       15.53   3.00  Male    Yes   Sat  Dinner     2\n",
            "236       12.60   1.00  Male    Yes   Sat  Dinner     2\n",
            "237       32.83   1.17  Male    Yes   Sat  Dinner     2\n",
            "241       22.67   2.00  Male    Yes   Sat  Dinner     2\n"
          ]
        }
      ]
    },
    {
      "cell_type": "code",
      "source": [
        "# 7. Yalnızca 'total_bill', 'tip', 'day' sütunlarını içeren DataFrame oluşturma\n",
        "df_selected = df[['total_bill', 'tip', 'day']]\n",
        "print(df_selected.head())"
      ],
      "metadata": {
        "colab": {
          "base_uri": "https://localhost:8080/"
        },
        "id": "FV5dbksvcaU5",
        "outputId": "7c653263-1475-4dc6-af7d-4c436295d6aa"
      },
      "execution_count": 45,
      "outputs": [
        {
          "output_type": "stream",
          "name": "stdout",
          "text": [
            "   total_bill   tip  day\n",
            "0       16.99  1.01  Sun\n",
            "1       10.34  1.66  Sun\n",
            "2       21.01  3.50  Sun\n",
            "3       23.68  3.31  Sun\n",
            "4       24.59  3.61  Sun\n"
          ]
        }
      ]
    },
    {
      "cell_type": "markdown",
      "source": [
        "### 📌 3. Yeni Sütunlar Oluşturma"
      ],
      "metadata": {
        "id": "yyxS8Y_Ic0cO"
      }
    },
    {
      "cell_type": "code",
      "source": [
        "# 10. tip_rate = tip / total_bill\n",
        "df['tip_rate'] = df['tip'] / df['total_bill']\n",
        "print(df[['total_bill', 'tip', 'tip_rate']].head())"
      ],
      "metadata": {
        "colab": {
          "base_uri": "https://localhost:8080/"
        },
        "id": "SkrJ42G1c03C",
        "outputId": "61053c39-2dbd-4ef8-a6c1-ba138f190c62"
      },
      "execution_count": 46,
      "outputs": [
        {
          "output_type": "stream",
          "name": "stdout",
          "text": [
            "   total_bill   tip  tip_rate\n",
            "0       16.99  1.01  0.059447\n",
            "1       10.34  1.66  0.160542\n",
            "2       21.01  3.50  0.166587\n",
            "3       23.68  3.31  0.139780\n",
            "4       24.59  3.61  0.146808\n"
          ]
        }
      ]
    },
    {
      "cell_type": "markdown",
      "source": [
        "### 📌 4. Gruplama ve Özetleme"
      ],
      "metadata": {
        "id": "39uWUVOhdEqD"
      }
    },
    {
      "cell_type": "code",
      "source": [
        "# 11. `smoker` durumuna göre `tip` ortalamaları\n",
        "avg_tip_by_smoker = df.groupby('smoker')['tip'].mean()\n",
        "print(avg_tip_by_smoker)"
      ],
      "metadata": {
        "colab": {
          "base_uri": "https://localhost:8080/"
        },
        "id": "QbY5vdtidFqI",
        "outputId": "90960288-818c-4133-a2a6-cc7c40ee7c74"
      },
      "execution_count": 47,
      "outputs": [
        {
          "output_type": "stream",
          "name": "stdout",
          "text": [
            "smoker\n",
            "Yes    3.008710\n",
            "No     2.991854\n",
            "Name: tip, dtype: float64\n"
          ]
        },
        {
          "output_type": "stream",
          "name": "stderr",
          "text": [
            "<ipython-input-47-dd1ae8396a2c>:2: FutureWarning: The default of observed=False is deprecated and will be changed to True in a future version of pandas. Pass observed=False to retain current behavior or observed=True to adopt the future default and silence this warning.\n",
            "  avg_tip_by_smoker = df.groupby('smoker')['tip'].mean()\n"
          ]
        }
      ]
    },
    {
      "cell_type": "code",
      "source": [
        "# 12. day ve time’a göre gruplama ile total_bill ortalaması\n",
        "avg_bill_by_day_time = df.groupby(['day', 'time'])['total_bill'].mean()\n",
        "print(avg_bill_by_day_time)"
      ],
      "metadata": {
        "colab": {
          "base_uri": "https://localhost:8080/"
        },
        "id": "afazfuxddKwq",
        "outputId": "23cdd642-34ad-4985-f87b-a3cdc3aab932"
      },
      "execution_count": 48,
      "outputs": [
        {
          "output_type": "stream",
          "name": "stdout",
          "text": [
            "day   time  \n",
            "Thur  Lunch     17.664754\n",
            "      Dinner    18.780000\n",
            "Fri   Lunch     12.845714\n",
            "      Dinner    19.663333\n",
            "Sat   Lunch           NaN\n",
            "      Dinner    20.441379\n",
            "Sun   Lunch           NaN\n",
            "      Dinner    21.410000\n",
            "Name: total_bill, dtype: float64\n"
          ]
        },
        {
          "output_type": "stream",
          "name": "stderr",
          "text": [
            "<ipython-input-48-8c5ee125582a>:2: FutureWarning: The default of observed=False is deprecated and will be changed to True in a future version of pandas. Pass observed=False to retain current behavior or observed=True to adopt the future default and silence this warning.\n",
            "  avg_bill_by_day_time = df.groupby(['day', 'time'])['total_bill'].mean()\n"
          ]
        }
      ]
    },
    {
      "cell_type": "markdown",
      "source": [
        "### 📌 5. Sıralama ve Değer Sayımı"
      ],
      "metadata": {
        "id": "9MyzMA_tdS0f"
      }
    },
    {
      "cell_type": "code",
      "source": [
        "# 13. `day` sütununda en sık gelen gün\n",
        "most_common_day = df['day'].value_counts().idxmax()\n",
        "print(\"En sık gelen gün:\", most_common_day)"
      ],
      "metadata": {
        "colab": {
          "base_uri": "https://localhost:8080/"
        },
        "id": "TOXGG8d9dTkb",
        "outputId": "ad53f976-4296-4ed6-80bf-52df81d805ce"
      },
      "execution_count": 49,
      "outputs": [
        {
          "output_type": "stream",
          "name": "stdout",
          "text": [
            "En sık gelen gün: Sat\n"
          ]
        }
      ]
    },
    {
      "cell_type": "code",
      "source": [
        "# 14. Sex sütunundaki kadın erkek oranları (%)\n",
        "sex_percentage = df['sex'].value_counts(normalize=True) * 100\n",
        "print(sex_percentage)"
      ],
      "metadata": {
        "colab": {
          "base_uri": "https://localhost:8080/"
        },
        "id": "Sf6E2uwtdahC",
        "outputId": "fcffd367-faca-4193-e878-bf7c48698939"
      },
      "execution_count": 50,
      "outputs": [
        {
          "output_type": "stream",
          "name": "stdout",
          "text": [
            "sex\n",
            "Male      64.344262\n",
            "Female    35.655738\n",
            "Name: proportion, dtype: float64\n"
          ]
        }
      ]
    },
    {
      "cell_type": "markdown",
      "source": [
        "### 📌 6. CSV Kaydı"
      ],
      "metadata": {
        "id": "m8QS9hrNdf6u"
      }
    },
    {
      "cell_type": "code",
      "source": [
        "# 15. CSV olarak kaydetme\n",
        "df.to_csv(\"tips_analiz.csv\", index=False)"
      ],
      "metadata": {
        "id": "U-3jD5ZWdlMB"
      },
      "execution_count": 51,
      "outputs": []
    }
  ]
}