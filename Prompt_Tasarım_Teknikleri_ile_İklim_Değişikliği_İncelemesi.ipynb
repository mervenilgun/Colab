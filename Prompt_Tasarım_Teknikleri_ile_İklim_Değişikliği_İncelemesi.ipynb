{
  "nbformat": 4,
  "nbformat_minor": 0,
  "metadata": {
    "colab": {
      "provenance": []
    },
    "kernelspec": {
      "name": "python3",
      "display_name": "Python 3"
    },
    "language_info": {
      "name": "python"
    }
  },
  "cells": [
    {
      "cell_type": "code",
      "source": [
        "from google.colab import drive\n",
        "drive.mount('/content/drive')"
      ],
      "metadata": {
        "colab": {
          "base_uri": "https://localhost:8080/"
        },
        "id": "9mlEWikX0I3h",
        "outputId": "319d364d-2a27-48e8-ac9b-92bb4678353a"
      },
      "execution_count": 1,
      "outputs": [
        {
          "output_type": "stream",
          "name": "stdout",
          "text": [
            "Mounted at /content/drive\n"
          ]
        }
      ]
    },
    {
      "cell_type": "code",
      "source": [
        "pip install openai"
      ],
      "metadata": {
        "colab": {
          "base_uri": "https://localhost:8080/"
        },
        "id": "J74JJN0C0MJp",
        "outputId": "2d0a3190-241d-4979-9b00-232894cbbadc"
      },
      "execution_count": 2,
      "outputs": [
        {
          "output_type": "stream",
          "name": "stdout",
          "text": [
            "Requirement already satisfied: openai in /usr/local/lib/python3.11/dist-packages (1.91.0)\n",
            "Requirement already satisfied: anyio<5,>=3.5.0 in /usr/local/lib/python3.11/dist-packages (from openai) (4.9.0)\n",
            "Requirement already satisfied: distro<2,>=1.7.0 in /usr/local/lib/python3.11/dist-packages (from openai) (1.9.0)\n",
            "Requirement already satisfied: httpx<1,>=0.23.0 in /usr/local/lib/python3.11/dist-packages (from openai) (0.28.1)\n",
            "Requirement already satisfied: jiter<1,>=0.4.0 in /usr/local/lib/python3.11/dist-packages (from openai) (0.10.0)\n",
            "Requirement already satisfied: pydantic<3,>=1.9.0 in /usr/local/lib/python3.11/dist-packages (from openai) (2.11.7)\n",
            "Requirement already satisfied: sniffio in /usr/local/lib/python3.11/dist-packages (from openai) (1.3.1)\n",
            "Requirement already satisfied: tqdm>4 in /usr/local/lib/python3.11/dist-packages (from openai) (4.67.1)\n",
            "Requirement already satisfied: typing-extensions<5,>=4.11 in /usr/local/lib/python3.11/dist-packages (from openai) (4.14.0)\n",
            "Requirement already satisfied: idna>=2.8 in /usr/local/lib/python3.11/dist-packages (from anyio<5,>=3.5.0->openai) (3.10)\n",
            "Requirement already satisfied: certifi in /usr/local/lib/python3.11/dist-packages (from httpx<1,>=0.23.0->openai) (2025.6.15)\n",
            "Requirement already satisfied: httpcore==1.* in /usr/local/lib/python3.11/dist-packages (from httpx<1,>=0.23.0->openai) (1.0.9)\n",
            "Requirement already satisfied: h11>=0.16 in /usr/local/lib/python3.11/dist-packages (from httpcore==1.*->httpx<1,>=0.23.0->openai) (0.16.0)\n",
            "Requirement already satisfied: annotated-types>=0.6.0 in /usr/local/lib/python3.11/dist-packages (from pydantic<3,>=1.9.0->openai) (0.7.0)\n",
            "Requirement already satisfied: pydantic-core==2.33.2 in /usr/local/lib/python3.11/dist-packages (from pydantic<3,>=1.9.0->openai) (2.33.2)\n",
            "Requirement already satisfied: typing-inspection>=0.4.0 in /usr/local/lib/python3.11/dist-packages (from pydantic<3,>=1.9.0->openai) (0.4.1)\n"
          ]
        }
      ]
    },
    {
      "cell_type": "code",
      "source": [
        "from openai import OpenAI\n",
        "import os\n",
        "# Anahtarı çevre değişkeninden al (güvenli yöntem)\n",
        "os.environ[\"OPENAI_API_KEY\"] = \"OpenAI key'inizi buraya girin\"  # OpenAI key'inizi buraya girin\n",
        " # OpenAI API anahtarınızı buraya yazın\n",
        "\n",
        "client = OpenAI()"
      ],
      "metadata": {
        "id": "m5mDlBKJ0gkY"
      },
      "execution_count": 7,
      "outputs": []
    },
    {
      "cell_type": "markdown",
      "source": [
        "# Zero-shot Prompt\n",
        "###Model hiçbir örnek görmeden doğrudan soruya yanıt verir."
      ],
      "metadata": {
        "id": "rO_OYMr_-w5K"
      }
    },
    {
      "cell_type": "code",
      "source": [
        "# Prompt tanımı\n",
        "prompt = \"İklim değişikliği nedir?\"\n",
        "\n",
        "\n",
        "response = client.chat.completions.create(\n",
        "    model=\"gpt-4\",\n",
        "    messages=[\n",
        "        {\"role\": \"user\", \"content\": prompt}\n",
        "    ]\n",
        ")\n",
        "\n",
        "# Yanıtı yazdır\n",
        "print(response.choices[0].message.content)"
      ],
      "metadata": {
        "colab": {
          "base_uri": "https://localhost:8080/"
        },
        "id": "ZISij8727K-z",
        "outputId": "5af15b41-fbde-4f49-f830-7601f5eaeede"
      },
      "execution_count": 11,
      "outputs": [
        {
          "output_type": "stream",
          "name": "stdout",
          "text": [
            "İklim değişikliği, dünya genelindeki iklim özelliklerinin önemli ölçüde ve sürekli olarak değişimini ifade eder. Genellikle bu terim, 19. yüzyılın başından bu yana insan faaliyetleri nedeniyle oluşan küresel ısınmayı karakterize etmek için kullanılır. Bu değişiklikler, atmosferin sera gazı konsantrasyonlarındaki artışın yanı sıra arazi kullanımındaki değişiklikler, aerosol oluşumları ve ozon tabakasının incelmesi gibi etkileri de içerir.\n",
            "\n",
            "İklim değişikliğinin sonuçları genellikle olumsuzdur ve alışılagelmiş iklim kalıplarının değişmesi, okyanusların asitlenmesi ve deniz seviyelerinin yükselmesi, eriyen buzullar, yağış miktarlarında değişiklik, daha sık ve şiddetli hava olayları ve ekosistemlerin bozulması gibi etkileri olabilir. İklim değişikliğinin ayrıca insan sağlığına, tarıma ve yerleşim yerlerine de etkisi olabilir.\n"
          ]
        }
      ]
    },
    {
      "cell_type": "markdown",
      "source": [
        "# Few-shot Prompt\n",
        "### Modelin nasıl cevap vereceğini anlaması için birkaç örnek verilir."
      ],
      "metadata": {
        "id": "da6-gCil_DB7"
      }
    },
    {
      "cell_type": "code",
      "source": [
        "prompt = \"\"\"\n",
        "Soru 1: Güneş neden doğudan doğar?\n",
        "Cevap 1: Çünkü Dünya batıdan doğuya döner.\n",
        "\n",
        "Soru 2:Yağmur nasıl oluşur?\n",
        "Cevap 2: Su buharı yoğunlaşarak yağmur damlalarına dönüşür.\n",
        "\n",
        "Şimdi, İklim değişikliği neden olur? Açıkla.\n",
        "\n",
        "\"\"\"\n",
        "\n",
        "response = client.chat.completions.create(\n",
        "    model=\"gpt-4\",\n",
        "    messages=[\n",
        "        {\"role\": \"user\", \"content\": prompt}\n",
        "    ]\n",
        ")\n",
        "\n",
        "print(response.choices[0].message.content)"
      ],
      "metadata": {
        "colab": {
          "base_uri": "https://localhost:8080/"
        },
        "id": "_Fc7rzFF_FJh",
        "outputId": "39f5c19f-7ccd-4341-cf7f-fa3042c8e255"
      },
      "execution_count": 12,
      "outputs": [
        {
          "output_type": "stream",
          "name": "stdout",
          "text": [
            "İklim değişikliği, genellikle insan faaliyetleri sonucunda atmosferdeki sera gazı seviyelerindeki artıştan kaynaklanır. Bu gazlar, güneş ışığını Dünya'ya tutarak atmosferin ısınmasına neden olur, bu da global ısınmaya yol açar. Ayrıca, doğal olaylar ve Dünya'nın coğrafi konumu da iklim değişikliklerinde rol oynar. İklim değişikliği, sıcaklık artışlarını, deniz seviyesinde yükselmeyi, buzulların erimesini ve ekstrem hava olaylarında artışı içerir. Bu değişimler ekosistemler, tarım, su kaynakları ve hatta insan sağlığı üzerinde ciddi etkilere sahip olabilir.\n"
          ]
        }
      ]
    },
    {
      "cell_type": "markdown",
      "source": [
        "# Chain of Thought Prompt\n",
        "### Modelin düşünce süreci yönlendirilir. Adım adım açıklama istenir."
      ],
      "metadata": {
        "id": "rj7deR2g_bAC"
      }
    },
    {
      "cell_type": "code",
      "source": [
        "prompt = \"\"\"\n",
        "Soru: İklim değişikliği neden olur?\n",
        "Düşün: Sanayi devriminden bu yana insanlar fosil yakıtlar kullanıyor.\n",
        " Bu yakıtlar karbondioksit gibi sera gazları salıyor. Sera gazları atmosferde ısıyı hapsediyor.\n",
        "Bu da küresel sıcaklık artışına neden oluyor.\n",
        "Şimdi bu süreci adım adım detaylıca anlat.\n",
        "\"\"\"\n",
        "\n",
        "response = client.chat.completions.create(\n",
        "    model=\"gpt-4\",\n",
        "    messages=[{\"role\": \"user\", \"content\": prompt}]\n",
        ")\n",
        "\n",
        "print(response.choices[0].message.content)"
      ],
      "metadata": {
        "colab": {
          "base_uri": "https://localhost:8080/"
        },
        "id": "7-irhIOE_c4Y",
        "outputId": "c106b459-3a67-4f68-907d-2e225dd3d60f"
      },
      "execution_count": 13,
      "outputs": [
        {
          "output_type": "stream",
          "name": "stdout",
          "text": [
            "İklim değişikliği, atmosferdeki gazların dengesinin değişmesi nedeniyle meydana gelir. Bu gazlar arasında karbondioksit (CO2), metan ve bunun gibi sera gazları bulunur. Ancak bu gazların yanlış anlaşılması gereken bir yönü, doğal bir parçamız olmalarıdır. Atmosferde doğal olarak bulunurlar ve Dünya'nın ısısını yüzeyde hapsetmek için gereklidirler. Sorun, bu gazların doğal seviyesinin zamanla değişmesidir.\n",
            "\n",
            "Sanayi Devriminden bu yana, yani 1700'lerden bu yana, insanlar kaliteli yaşamlarını sürdürebilmek adına enerjiye daha fazla ihtiyaç duymaya başlamıştır. Enerji elde etmek için fosil yakıtların (petrol, kömür, doğal gaz) kullanımı artmıştır. Bu fosil yakıtların yanmasıyla, normalden çok daha fazla karbondioksit gibi sera gazları atmosfere salınmıştır.\n",
            "\n",
            "Sera gazları özelliği gereği, Güneş'ten gelen ısının atmosferden tekrar uzaya yansımasını engellerler. Yani bu gazlar yüzeydeki ısının bir kısmını hapsetme özelliğine sahip olup hapsolan ısı miktarı da sera gazlarının miktarına bağlıdır. Normal seviyedeki sera gazları, Dünya'nın yüzeyinde yaşam için gerekli olan ısıyı hapsederken, fazla miktarlardaki sera gazları Dünya'nın fazla ısıya maruz bırakılmasına sebep olacaktır.\n",
            "\n",
            "Dolayısıyla fosil yakıt kullanımının sonucunda atmosfere salınan fazla miktarlardaki karbondioksit, Dünya'yı ısıtmakta ve dolayısıyla küresel ısınmayı tetiklemektedir. Küresel ısınma, tüm dünyadaki ortalama sıcaklıkların artması anlamına gelir ve bu durum belirli bölgelerdeki iklim dengelerinin bozulmasına yol açar. Örneğin bazı bölgelerde daha sık ve şiddetli kuraklık dönemleri, diğerlerinde ise daha sık ve yoğun seller görülebilir. Ayrıca, küresel ısınma buzulların erimesine de sebep olur ve bu da deniz seviyelerinin yükselmesine neden olur.\n",
            "\n",
            "Sonuç olarak, iklim değişikliği esas olarak insanların fosil yakıtların yanmasından kaynaklanan sera gazlarının artmasından kaynaklanmaktadır. Bunun sonucunda da kıtasal ve bölgesel iklim dengelerinde belirgin değişiklikler meydana gelmektedir.\n"
          ]
        }
      ]
    },
    {
      "cell_type": "markdown",
      "source": [
        "#Role Prompting – Rol Atama"
      ],
      "metadata": {
        "id": "tK5zkkqXCEae"
      }
    },
    {
      "cell_type": "code",
      "source": [
        "prompt = \"\"\"\n",
        "Bir iklim bilimci olarak, iklim değişikliğinin nedenlerini detaylı ve bilimsel bir şekilde açıkla.\n",
        "\"\"\"\n",
        "\n",
        "response = client.chat.completions.create(\n",
        "    model=\"gpt-4\",\n",
        "    messages=[{\"role\": \"user\", \"content\": prompt}]\n",
        ")\n",
        "\n",
        "print(response.choices[0].message.content)\n"
      ],
      "metadata": {
        "colab": {
          "base_uri": "https://localhost:8080/"
        },
        "id": "fvM9eXhbCHPm",
        "outputId": "d33d1150-4b59-4f54-8ab3-e21c5d67f195"
      },
      "execution_count": 24,
      "outputs": [
        {
          "output_type": "stream",
          "name": "stdout",
          "text": [
            "İklim değişikliği, tam olarak tanımlamak gerekirse, uzun süreli hava durumlarının, atmosfer koşullarının ve bunların dünya genelinde ve belli bölgelerde değişme eğilimlerinin bütünüdür. Bu değişiklikler genellikle yer yüzündeki sıcaklık değişiklikleri, yer yüzündeki buzulların erimesi, deniz seviyelerinin yükselmesi ve aşırı hava durumlarındaki artış gibi olgulara sebep olmaktadır. İklim değişikliğine sebep olan unsurlar genellikle doğal ve insan kaynaklı faktörler olmak üzere ikiye ayrılır.\n",
            "\n",
            "Doğal faktörler şunları içerir:\n",
            "\n",
            "1. Güneşin Radyasyonu: Güneş, dünyamızın ana enerji kaynağıdır. Güneşten gelen radyasyon seviyesi sürekli olarak değil, belirli periyotlar halinde değişir. Bu, Dünya'nın ısısının ve dolayısıyla ikliminin değişmesine neden olabilir.\n",
            "\n",
            "2. Volkanik Faaliyetler: Volkanik patlamalar, atmosfere büyük miktarda kül, toz ve gaz (özellikle de sera gazı olan karbondioksit ve kükürt dioksit) yayar. Bunlar atmosferde enerji dengesini etkileyerek iklimi değiştirebilir.\n",
            "\n",
            "3. Okyanus Akımları: Okyanus akımları, güneşin ısısını Dünya üzerinde taşır. Bu akımların değişmesi, sıcaklık dağılımını ve dolayısıyla iklimi değiştirebilir.\n",
            "\n",
            "İnsan kaynaklı faktörler aşağıdakileri içerir:\n",
            "\n",
            "1. Sera Gazı Emisyonları: İnsan aktiviteleri sonucu atmosfere salınan sera gazları (özellikle karbondioksit ve metan), dünya atmosferinde ısının tutulmasına sebep olur. Bu da dünya üzerindeki ortalama sıcaklıkları artırır.\n",
            "\n",
            "2. Arazi Kullanımı Değişiklikleri: Özellikle ormanlık alanların tarım ya da diğer insana dayalı aktiviteler için tahrip edilmesi, karbondioksit emisyonlarını arttırır ve iklim değişikliğine katkıda bulunur.\n",
            "\n",
            "3. Atmosferik Aerosoller: İnsan aktiviteleri sonucu (özellikle fosil yakıt yok edilmesi ve sanayi süreçleri) atmosfere yayılan partiküller ve aerosoller, Dünya'nın enerji dengesini etkileyerek iklimi değiştirebilir.\n",
            "\n",
            "Bu doğal ve insan kaynaklı faktörler bir takım süreçleri tetikleyerek Dünya'nın enerji dengesini ve dolayısıyla iklimini değiştirir. Bu süreçler karmaşık ve çok bilim disiplinini içerir, bu yüzden iklim değişikliğini tam olarak anlamak ve tahmin etmek büyük bir zorluk arz eder. Ancak genel olarak, bilim insanları insan kaynaklı sera gazı emisyonlarının iklim değişikliğinde önemli bir rol oynadığını kabul etmektedir.\n"
          ]
        }
      ]
    },
    {
      "cell_type": "markdown",
      "source": [
        "# Format-Constrained Prompting – Tablo Formatı"
      ],
      "metadata": {
        "id": "L0fFNQD3CeGR"
      }
    },
    {
      "cell_type": "code",
      "source": [
        "prompt = \"\"\"\n",
        "İklim değişikliğinin nedenlerini ve etkilerini aşağıdaki tabloya göre açıkla:\n",
        "\n",
        "| Başlık       | Açıklama |\n",
        "|--------------|----------|\n",
        "\"\"\"\n",
        "\n",
        "response = client.chat.completions.create(\n",
        "    model=\"gpt-4\",\n",
        "    messages=[{\"role\": \"user\", \"content\": prompt}]\n",
        ")\n",
        "\n",
        "print(response.choices[0].message.content)\n"
      ],
      "metadata": {
        "colab": {
          "base_uri": "https://localhost:8080/"
        },
        "id": "GXX2Bw5hChRE",
        "outputId": "ed313a20-5c16-430c-800e-b9de07cdb095"
      },
      "execution_count": 25,
      "outputs": [
        {
          "output_type": "stream",
          "name": "stdout",
          "text": [
            "| Nedenler      | İklim değişikliği temel olarak insan faaliyetlerinden ve doğal süreçlerden kaynaklanmaktadır. Bunlar arasında fosil yakıt kullanımı, ormansızlaşma, sera gazı emisyonları, kirlilik ve endüstriyel işlemler bulunuyor. Fosil yakıtların yakılması, karbondioksit (CO2) gibi sera gazlarının atmosfere salınmasına neden olur ve bu da dünyanın sıcaklığını artırır. Ormansızlaşma, ağaçların karbondioksiti emme yeteneğini azaltır ve bu da atmosferde daha fazla CO2 birikmesine yol açar. Ayrıca, doğal süreçler, volkanik aktivite ve güneş ışınlaması değişiklikleri gibi, iklim sisteminde dalgalanmalara neden olabilir. |\n",
            "| Etkiler      | İklim değişikliğinin etkisi tüm dünyayı ve canlıları derinden etkilemektedir. Aşırı hava olayları, ısı dalgaları, kuraklık, sel ve kasırgalar dahil, giderek yaygınlaşmış ve şiddetlenmiştir. Buna bağlı olarak gıda ve su kaynakları üzerinde baskı artmıştır ve tarım, balıkçılık ve hayvancılık sektörleri tehlikeye girmiştir. Deniz seviyelerinin yükselmesi nedeniyle, kıyı bölgeleri ve adalar su basma tehlikesiyle karşı karşıya kalırken, aşırı sıcaklar ve kuraklık nedeniyle orman yangınları artmıştır. Biyoçeşitlilik üzerinde de ciddi etkileri vardır; bazı türlerin yaşama alanları değişmiş veya yok olmuş, bu da ekosistemleri bozmuştur. Ayrıca iklim değişikliği, insan sağlığı üzerinde de ciddi etkiler yapmaktadır. Hava kalitesinin düşmesi ve aşırı sıcakların çoğalması, solunum hastalıklarına ve ısıya bağlı sağlık sorunlarına yol açabilmektedir. |\n"
          ]
        }
      ]
    },
    {
      "cell_type": "markdown",
      "source": [
        "#Format-Constrained (JSON) Prompting – İklim Değişikliği"
      ],
      "metadata": {
        "id": "dYq_aUtJDA1H"
      }
    },
    {
      "cell_type": "code",
      "source": [
        "prompt = \"\"\"\n",
        "İklim değişikliğinin nedenlerini ve sonuçlarını aşağıdaki JSON formatında açıkla:\n",
        "\n",
        "{\n",
        "  \"nedenler\": [\n",
        "    {\n",
        "      \"kaynak\": \"\",\n",
        "      \"açıklama\": \"\"\n",
        "    }\n",
        "  ],\n",
        "  \"sonuçlar\": [\n",
        "    {\n",
        "      \"etki\": \"\",\n",
        "      \"açıklama\": \"\"\n",
        "    }\n",
        "  ]\n",
        "}\n",
        "\"\"\"\n",
        "\n",
        "response = client.chat.completions.create(\n",
        "    model=\"gpt-4\",\n",
        "    messages=[{\"role\": \"user\", \"content\": prompt}]\n",
        ")\n",
        "\n",
        "print(response.choices[0].message.content)\n"
      ],
      "metadata": {
        "colab": {
          "base_uri": "https://localhost:8080/"
        },
        "id": "vzbZUdSrDDQD",
        "outputId": "46b88765-b58c-43b5-8085-1337822d79f1"
      },
      "execution_count": 28,
      "outputs": [
        {
          "output_type": "stream",
          "name": "stdout",
          "text": [
            "{\n",
            "  \"nedenler\": [\n",
            "    {\n",
            "      \"kaynak\": \"Endüstriyel Devrim\",\n",
            "      \"açıklama\": \"Endüstriyel devrim ile birlikte enerji üretimi için fosil yakıt kullanımının artması, çok miktarda karbondioksit ve diğer sera gazlarının atmosfere salınmasına neden oldu. Bu gazların atmosferde birikimi, Dünya'nın ısısını tutarak küresel ısınmayı ve iklim değişikliğini tetikledi.\"\n",
            "    },\n",
            "    {\n",
            "      \"kaynak\": \"Tarım\",\n",
            "      \"açıklama\": \"Tarım pratikleri, özellikle büyük ölçekli hayvancılık, metan gibi güçlü bir sera gazının atmosfere açığa çıkmasına neden olur. Ayrıca, ormanların tarım arazisi haline getirilmesi, karbon emilimini azaltır ve karbondioksit salınımını artırır.\"\n",
            "    },\n",
            "    {\n",
            "      \"kaynak\": \"Kentsel Gelişme\",\n",
            "      \"açıklama\": \"Beton ve asfalt gibi yapı malzemeleri güneş ışığını emer ve ısısını gece boyunca yayar. Bu 'ısı adaları', kentlerin etrafındaki alanlardan daha sıcak olmasına neden olur ve genel ısınmayı artırır.\"\n",
            "    }\n",
            "  ],\n",
            "  \"sonuçlar\": [\n",
            "    {\n",
            "      \"etki\": \"Deniz Seviyesi Yükselmesi\",\n",
            "      \"açıklama\": \"Küresel ısınmanın sonucunda, okyanus suları ısınır ve genleşir. Aynı zamanda, kutuplardaki buzulların erimesiyle daha fazla su eklenir. Bu nedenle, deniz seviyesi yükselir ve kıyı bölgeleri ve ada ülkeleri için büyük bir tehdit oluşturur.\"\n",
            "    },\n",
            "    {\n",
            "      \"etki\": \"Hava Durumu Değişiklikleri\",\n",
            "      \"açıklama\": \"Isınan atmosfer, hava durumunun daha öngörülemeyen ve aşırı olmasına yol açabilir. Bu daha güçlü kasırgalar, daha aşırı sıcak ve soğuk hava dalgaları ve daha fazla yağış anlamına gelir.\"\n",
            "    },\n",
            "    {\n",
            "      \"etki\": \"Canlı Türlerinin Yok Olması\",\n",
            "      \"açıklama\": \"İklim değişikliği, ekosistemler üzerinde büyük bir etkiye sahiptir. Bazı canlı türleri, değişen iklim koşullarına uyum sağlayamaz ve yok olabilir. Bu da biyolojik çeşitliliği azaltır.\"\n",
            "    }\n",
            "  ]\n",
            "}\n"
          ]
        }
      ]
    },
    {
      "cell_type": "markdown",
      "source": [
        "#Style & Length Constrained Prompting – Sade ve Kısa Anlatım"
      ],
      "metadata": {
        "id": "EpoDXclyCkxV"
      }
    },
    {
      "cell_type": "code",
      "source": [
        "prompt = \"\"\"\n",
        "İklim değişikliğinin nedenlerini 100 kelimeyi geçmeyecek şekilde sade ve herkesin anlayabileceği bir dille açıkla.\n",
        "\"\"\"\n",
        "\n",
        "response = client.chat.completions.create(\n",
        "    model=\"gpt-4\",\n",
        "    messages=[{\"role\": \"user\", \"content\": prompt}]\n",
        ")\n",
        "\n",
        "print(response.choices[0].message.content)\n"
      ],
      "metadata": {
        "colab": {
          "base_uri": "https://localhost:8080/"
        },
        "id": "voQLg8_ECmdm",
        "outputId": "e4d891ce-5e68-4002-ee03-d7b4a1c63823"
      },
      "execution_count": 26,
      "outputs": [
        {
          "output_type": "stream",
          "name": "stdout",
          "text": [
            "İklim değişikliği, dünya üzerindeki hava koşullarının uzun süreli değişimleri olarak tanımlanır. İklim değişikliğinin nedenlerini doğal ve insan kaynaklı olarak ikiye ayırabiliriz. Doğal nedenler arasında güneş ışınlarının artışı, yanardağ patlamaları ve okyanus akıntılarındaki değişimler bulunur. İnsan kaynaklı nedenler arasında ise sanayileşme, fosil yakıtların yakılması, ormanların kesilmesi ve sera gazı emisyonları yer alır. Bu eylemler atmosferdeki karbondioksit miktarını arttırarak dünyanın ısısını yükseltir ve iklimi değiştirir.\n",
            "\n"
          ]
        }
      ]
    },
    {
      "cell_type": "markdown",
      "source": [
        "#Instructional Prompting – Aşamalı Açıklama"
      ],
      "metadata": {
        "id": "8xHgD9eGCqDi"
      }
    },
    {
      "cell_type": "code",
      "source": [
        "prompt = \"\"\"\n",
        "İklim değişikliğinin oluşum sürecini aşama aşama açıkla. Her aşamayı kısa bir paragrafa ayırarak anlat.\n",
        "\"\"\"\n",
        "\n",
        "response = client.chat.completions.create(\n",
        "    model=\"gpt-4\",\n",
        "    messages=[{\"role\": \"user\", \"content\": prompt}]\n",
        ")\n",
        "\n",
        "print(response.choices[0].message.content)\n"
      ],
      "metadata": {
        "colab": {
          "base_uri": "https://localhost:8080/"
        },
        "id": "g8_qNo1iCpit",
        "outputId": "a875d46f-0976-4c59-b86f-4062d52b4490"
      },
      "execution_count": 27,
      "outputs": [
        {
          "output_type": "stream",
          "name": "stdout",
          "text": [
            "1. Aşama: Sera Gazı Emisyonları - İklim değişikliğinin başlangıcı, karbondioksit, metan ve dinitrojen oksit gibi sera gazı emisyonlarına bağlıdır. İnsan faaliyetleri, özellikle fosil yakıtların yanması, tarım ve ormansızlaşma, bu gazların atmosfere yayılmasına neden olur. \n",
            "\n",
            "2. Aşama: Sera Etkisi - Bu gazlar atmosfere girer girmez, güneş ışınlarının Dünya'nın yüzeyine ulaşmasını ve Dünyadan yansıarak tekrar uzaya ulaşmasını engeller. Bu durum, içerideki sıcaklığın korunmasına yol açarak 'sera etkisi' olarak adlandırılır. Sera etkisi doğal bir olaydır, ancak insanların sera gazı emisyonlarını arttırması bu etkiyi güçlendirir ve dünya genelinde sıcaklıkların yükselmesine neden olur.\n",
            "\n",
            "3. Aşama: Küresel Isınma - Yükselen sıcaklıklar küresel ısınmaya yol açar. Bu, buzulların erimesine, okyanuslar içindeki suyun artan buharlaşmasına, ve sıcaklık dağılımındaki diğer değişikliklere neden olur. Bu etkiler bir döngü oluşturur çünkü artan su buharı da bir sera gazıdır ve daha fazla ısınmaya neden olur.\n",
            "\n",
            "4. Aşama: Hava Durumu ve İklim Modellemesi - Bu döngülerin sonucunda, hava olayları ve iklim kalıpları değişir. Bu değişiklikler, bazı yerlerde kuraklık, diğerlerinde sağanak yağışlar ve genellikle daha aşırı hava koşulları şeklinde görülür. İklim modelleri bu değişiklikleri ölçmeye yardımcı olur, ancak yeryüzünün farklı bölgelerindeki etkiler her zaman farklı olduğu için zaman zaman belirsiz sonuçlar verebilirler.\n",
            "\n",
            "5. Aşama: Geri Bildirim Döngüsü - Son aşamada, iklim değişikliği bazı olayları hızlandırır ve bazı olayları yavaşlatır, bu da geri bildirim döngülerine yol açar. Örneğin, ısınma, farklı buzulları ve donmuş toprağı eritebilir, bu da daha fazla sera gazının serbest kalmasına neden olur. Bu, başlangıçtaki ısınmayı daha da artırır. Benzer şekilde, ısınma ormanların ölmesine veya deniz seviyesinin yükselmesine neden olabilir, bu da karbondioksitin atmosfere serbest bırakılmasını veya yeni karbon emme yeteneklerinin kaybolmasını hızlandırır. Bu döngüler iklim değişikliğini hızlandırır ve şiddetlendirir.\n"
          ]
        }
      ]
    },
    {
      "cell_type": "markdown",
      "source": [
        "| Prompt Tekniği                 | Açıklık   | Derinlik      | Yapısallık | Uygunluk  | Güçlü Yön                      | Zayıf Yön                           |\n",
        "| ------------------------------ | --------- | ------------- | ---------- | --------- | ------------------------------ | ----------------------------------- |\n",
        "| **Zero-shot**                  | 🟡 Orta   | 🟡 Orta       | 🔴 Yok     | 🟢 Yüksek | Hızlı, zahmetsiz               | Yüzeysel bilgi, gerekçelendirme yok |\n",
        "| **Few-shot**                   | 🟢 Yüksek | 🟢 Yüksek     | 🔴 Yok     | 🟢 Yüksek | Stil kontrolü, örnekle öğrenme | Örneklerin niteliğine bağımlı       |\n",
        "| **Chain-of-thought**           | 🟢 Yüksek | 🟢 Çok Yüksek | 🔴 Yok     | 🟢 Yüksek | Akıl yürütme, süreç anlatımı   | Daha uzun yanıt süresi              |\n",
        "| **Role prompting**             | 🟢 Yüksek | 🟢 Yüksek     | 🔴 Yok     | 🟢 Yüksek | Uzman dili, ton kontrolü       | Daha teknik anlatım                 |\n",
        "| **Format-constrained (Tablo)** | 🟢 Yüksek | 🟡 Orta       | 🟢 Evet    | 🟢 Yüksek | Okunabilirlik, yapı            | Duygusal/yorum eksikliği            |\n",
        "| **Format-constrained (JSON)**  | 🟢 Yüksek | 🟡 Orta       | 🟢 Evet    | 🟢 Yüksek | Otomasyon ve veri uyumu        | İnsan okumasına uygun değil         |\n",
        "| **Style & Length**             | 🟢 Yüksek | 🟡 Orta       | 🔴 Yok     | 🟢 Yüksek | Sadelik, sınırlı kelime        | Derinlik eksik olabilir             |\n",
        "| **Instructional Prompting**    | 🟢 Yüksek | 🟢 Yüksek     | 🔴 Kısmen  | 🟢 Yüksek | Aşamalı net anlatım            | Bazen tekrar içerebilir             |\n"
      ],
      "metadata": {
        "id": "epBoE9D5DmVs"
      }
    },
    {
      "cell_type": "markdown",
      "source": [
        "🧠 SONUÇ: En Başarılı Prompt Tekniği\n",
        "🏆 Kazanan: Chain-of-Thought Prompting\n",
        "Neden?\n",
        "\n",
        "Adım adım mantıklı gerekçelendirme içeriyor.\n",
        "\n",
        "Karmaşık bir konuyu herkesin anlayabileceği şekilde sistematik olarak açıklıyor.\n",
        "\n",
        "Bilgiler sadece yüzeyde kalmıyor, arka plan ilişkileri de açıklanıyor (ör. sera etkisi → sıcaklık artışı → buzul erimesi → deniz seviyesi yükselmesi).\n",
        "\n",
        "🔎 Diğer Etkili Yöntemler\n",
        "Few-shot: Yapay zeka, örneklerden nasıl cevap vereceğini öğreniyor; sade ve yapılandırılmış yanıtlar sağladı.\n",
        "\n",
        "Instructional Prompting: Öğretici, aşamalı anlatım özellikle eğitim içeriklerinde çok etkili.\n",
        "\n",
        "Role Prompting: Bilimsel netlik istendiğinde ideal, ancak fazla teknik olabilir.\n",
        "\n",
        "Format-Constrained (JSON/Tablo): Teknik veya otomasyon için harika, ama insanlar için okuması sıkıcı olabilir.\n",
        "\n",
        "🧰 Kullanım Önerileri\n",
        "Kullanım Durumu\tÖnerilen Teknik\n",
        "Hızlı genel bilgi\tZero-shot\n",
        "Stil ve ton önemli\tFew-shot, Role prompting\n",
        "Adım adım kavramsal analiz\tChain-of-Thought\n",
        "Yapısal veri/rapor formatı\tFormat-Constrained (JSON)\n",
        "Eğitim/e-öğrenme içeriği\tInstructional Prompting\n",
        "Kısa ve sade açıklama\tStyle & Length Constraint"
      ],
      "metadata": {
        "id": "nf5QmmxTDnQn"
      }
    },
    {
      "cell_type": "markdown",
      "source": [
        "✅ Kullanım Önerileri"
      ],
      "metadata": {
        "id": "i6ZPshswEofY"
      }
    },
    {
      "cell_type": "markdown",
      "source": [
        "| İhtiyaç                          | Uygun Teknik                    |\n",
        "| -------------------------------- | ------------------------------- |\n",
        "| Hızlı ve genel bilgi             | Zero-shot                       |\n",
        "| Eğitim / adım adım öğretim       | Chain of Thought, Instructional |\n",
        "| Raporlama / yapılandırılmış veri | Format-Constrained (JSON/Tablo) |\n",
        "| Hedefe yönelik, sade açıklama    | Style & Length                  |\n",
        "| Uzman görüşü isteyen anlatım     | Role Prompting                  |\n"
      ],
      "metadata": {
        "id": "VTSumW8UEjIM"
      }
    },
    {
      "cell_type": "markdown",
      "source": [
        "🧠 Öğretici Not: Prompt Tasarım Teknikleri ile İklim Değişikliği İncelemesi\n",
        "🎯 Amaç\n",
        "Bu çalışmada, yapay zeka ile etkili bilgi üretimi için kullanılan farklı prompt tasarım teknikleri değerlendirilmiştir.\n",
        "Konu olarak iklim değişikliği seçilmiş ve her teknik aynı konuya uygulanmıştır. Hedef, hangi tekniğin daha açıklayıcı, tutarlı ve işlevsel sonuç verdiğini analiz etmektir.\n",
        "\n",
        "📌 Temel Kavram: Prompt Nedir?\n",
        "Prompt, dil modeline verilen komuttur. Bu komut sorular, görev tanımları veya örneklerle şekillenebilir.\n",
        "Prompt’un kalitesi, modelden alınan cevabın doğruluğu ve kullanılabilirliği üzerinde doğrudan etkilidir.\n",
        "\n",
        "🧪 Uygulanan Prompt Teknikleri\n",
        "1. Zero-shot Prompting\n",
        "Tanım: Model, hiçbir örnek görmeden doğrudan soruya cevap verir.\n",
        "\n",
        "Kullanılan prompt:\n",
        "\"İklim değişikliği nedir?\"\n",
        "\n",
        "Avantaj: Hızlı ve basit uygulama\n",
        "\n",
        "Dezavantaj: Yüzeysel kalabilir, gerekçe içermez\n",
        "\n",
        "2. Few-shot Prompting\n",
        "Tanım: Modelin nasıl cevap vereceğini anlaması için birkaç örnek verilir.\n",
        "\n",
        "Kullanılan prompt:\n",
        "Soru: Güneş neden doğudan doğar?  \n",
        "Cevap: Çünkü Dünya batıdan doğuya döner.  \n",
        "...\n",
        "Soru: İklim değişikliği neden olur?\n",
        "Avantaj: Stil kontrolü sağlanabilir\n",
        "\n",
        "Dezavantaj: Örneklerin kalitesi çok önemli\n",
        "\n",
        "3. Chain of Thought Prompting\n",
        "Tanım: Modelden düşünce sürecini adım adım anlatması istenir.\n",
        "\n",
        "Kullanılan prompt:\n",
        "Düşün: Sanayi devriminden bu yana insanlar fosil yakıt kullanıyor...  \n",
        "Şimdi bu süreci adım adım açıkla.\n",
        "Avantaj: Derinlemesine açıklama, neden-sonuç ilişkisi\n",
        "\n",
        "Dezavantaj: Uzun yanıt üretir, her konuda gerek olmayabilir\n",
        "\n",
        "4. Role Prompting\n",
        "Tanım: Model, belirli bir uzman kimliğiyle cevap verir.\n",
        "\n",
        "Kullanılan prompt:\n",
        "\"Bir iklim bilimci olarak, iklim değişikliğini açıkla.\"\n",
        "\n",
        "Avantaj: Uzman diliyle anlatım\n",
        "\n",
        "Dezavantaj: Teknik terimler fazla olabilir\n",
        "\n",
        "5. Format-Constrained Prompting (Tablo / JSON)\n",
        "Tanım: Model belirli bir yapıya (ör. tablo, JSON) göre yanıt verir.\n",
        "\n",
        "Avantaj: Otomasyon dostu, düzenli çıktı\n",
        "\n",
        "Dezavantaj: Anlatım sınırlı olabilir\n",
        "\n",
        "6. Style & Length Constrained Prompting\n",
        "Tanım: Yanıtın uzunluğu ve dili kullanıcı tarafından belirlenir.\n",
        "\n",
        "Kullanılan prompt:\n",
        "\"100 kelimeyi geçmeden, sade bir dille açıkla.\"\n",
        "\n",
        "Avantaj: Hedefe uygun içerik\n",
        "\n",
        "Dezavantaj: Derinlik sınırlı\n",
        "\n",
        "7. Instructional Prompting\n",
        "Tanım: Modelden, süreci öğretici aşamalarla açıklaması istenir.\n",
        "\n",
        "Kullanılan prompt:\n",
        "\"Aşama aşama, her bölümü kısa paragraflarla açıkla.\"\n",
        "\n",
        "Avantaj: Yapılandırılmış bilgi aktarımı\n",
        "\n",
        "Dezavantaj: İlkokul düzeyine indirgenebilir\n",
        "\n"
      ],
      "metadata": {
        "id": "050EgYnDERa6"
      }
    },
    {
      "cell_type": "markdown",
      "source": [
        "🧠 Genel Değerlendirme\n",
        "En iyi sonuç: 🔗 Chain of Thought Prompting\n",
        "\n",
        "Karmaşık konularda gerekçeli ve anlaşılır yanıtlar üretir.\n",
        "\n",
        "Diğer güçlü seçenek:\n",
        "\n",
        "📚 Instructional Prompting: Eğitim içerikleri için çok uygun\n",
        "\n",
        "👤 Role Prompting: Akademik/uzman anlatım için idealdir\n",
        "\n",
        "🗂️ Format-Constrained: Raporlama ve otomasyon için idealdir"
      ],
      "metadata": {
        "id": "xFPiujRkEYz4"
      }
    }
  ]
}